{
  "nbformat": 4,
  "nbformat_minor": 0,
  "metadata": {
    "colab": {
      "name": "TP 2 - Regresión Logística, Lineal y MLP",
      "provenance": []
    },
    "kernelspec": {
      "name": "python3",
      "display_name": "Python 3"
    },
    "language_info": {
      "name": "python"
    }
  },
  "cells": [
    {
      "cell_type": "markdown",
      "metadata": {
        "id": "Q07jJGH2g8qK"
      },
      "source": [
        "# TP 2 - Regresión Logística, Lineal y MLP\n",
        "\n",
        "El siguiente trabajo práctico consta de tres ejercicions relaciondados con el segundo módulo visto en clase\n",
        "\n",
        "Fecha de entrega: 9 de mayo\n",
        "\n",
        "Fecha de defensa: 10 de mayo\n",
        "\n",
        "Recordar establecer los métodos de validación para cada punto.\n",
        "\n",
        "Para ambos ejercicios, probar las siguientes funciones de Keras con sus hiperparámetros asociados:\n",
        "\n",
        "\n",
        "*   Early stopping\n",
        "*   Model checkpoint\n",
        "*   Scheduling learning rate\n",
        "\n",
        "También levantar las curvas de aprendizaje en Tensorboard. \n",
        "\n",
        "\n",
        "\n",
        "Evaluar el compartamiento del modelo utilizando diferentes técnicas de regularización como:\n",
        "\n",
        "*   Drop out\n",
        "*   Regularización L1\n",
        "*   Regularización L2\n",
        "*   Data Augmentation\n",
        "*   Batch Normalization\n",
        "\n"
      ]
    },
    {
      "cell_type": "markdown",
      "metadata": {
        "id": "HorZ3itFhRnQ"
      },
      "source": [
        "##Ejercicio 1\n",
        "\n",
        "A partir del Pima Indians Diabetes Dataset utilizado en el TP 1 de la materia utilizando realizar:\n",
        "\n",
        "\n",
        "<ol start = \"1\">\n",
        "  <li> Clasificador utilizando regresión logística </li>\n",
        "  <li> Clasificador con regresión logística + feature engineering </li>\n",
        "  <li> Clasificador utilizando MLP </li>\n",
        "    <ul type=\"none\">\n",
        "      <li> En este punto, probar los siguientes elementos: </li>\n",
        "        <ul>\n",
        "          <li> Topología e hiperparámetros </li>\n",
        "            <ul type=\"circle\">\n",
        "              <li> Cantidad de capas </li>\n",
        "              <li> Cantidad de neuronas por capa </li>\n",
        "              <li> Funciones de activación </li>\n",
        "              <li> Optimizadores (tipos, learning rate y beta)</li>\n",
        "            </ul>\n",
        "          <li> Buscar formas de darle interpretabilidad a la red (o a los parámetros aprendidos) </li>\n",
        "        </ul>\n",
        "    </ul>\n",
        "</ol>\n",
        "\n",
        "La **métrica principal** en este punto: Área bajo la curva ROC\n",
        "\n",
        "Buscar el umbral para la clasificación de forma tal que de maximizar el F2 score.\n",
        "\n",
        "Informar métricas secundarias:\n",
        "\n",
        "\n",
        "*   Especificidad\n",
        "*   Sensibilidad\n",
        "*   Valor Predictivo Positivo\n",
        "*   Valor Predictivo Negativo\n",
        "\n",
        "\n",
        "**Pregunta adicional:**\n",
        "\n",
        "Dada la situación en la cual cambia la prevalencia de la enfermedad en la población a ser del 20%. Se desea reutilizar el modelo sin volver a entrenar, \n",
        " ¿Cómo lo harían? ¿Qué métricas se mantienen igual y cuáles cambiarian?\n"
      ]
    },
    {
      "cell_type": "markdown",
      "metadata": {
        "id": "FQIg4TVxhnfK"
      },
      "source": [
        "## Ejercicio 2\n",
        "\n",
        "Para este ejercicio se provee una base de datos con los costos de la atención médica de pacientes. El objetivo es realizar una estimación del costo de la atención para un paciente dado. Para esto realizar:\n",
        "\n",
        "<ol start = \"1\">\n",
        "  <li> Regresión lineal </li>\n",
        "  <li> Regresión lineal + feature engineering </li>\n",
        "  <li> Regresión utilizando MLP </li>\n",
        "    <ul type=\"none\">\n",
        "      <li> En este punto, tener en cuenta los siguientes elementos: </li>\n",
        "        <ul>\n",
        "          <li> Ingresar con una matríz de embeddings de dimensionalidad 2 sobre la región </li>\n",
        "            <ul type=\"circle\">\n",
        "              <li> Monitorear con tensorboard la evolución de los mismos </li>\n",
        "            </ul>\n",
        "          <li> Topología e hiperparámetros </li>\n",
        "            <ul type=\"circle\">\n",
        "              <li> Cantidad de capas </li>\n",
        "              <li> Cantidad de neuronas por capa </li>\n",
        "              <li> Funciones de activación </li>\n",
        "              <li> Optimizadores (tipos, learning rate y beta)</li>\n",
        "            </ul>\n",
        "          <li> Buscar formas de darle interpretabilidad a la red (o a los parámetros aprendidos) </li>\n",
        "        </ul>\n",
        "    </ul>\n",
        "</ol>\n",
        "\n",
        "La **métrica principal** en este punto: Mean Absolute Error (MAE)\n",
        "\n",
        "\n",
        "\n",
        "**Pregunta adicional:**\n",
        "\n",
        "Comparar Mean Square Error (MSE) con Mean Absolute Error (MAE). ¿En qué suposición se basa cada una?\n",
        "\n",
        "\n",
        "\n",
        "\n",
        "\n",
        "\n"
      ]
    }
  ]
}